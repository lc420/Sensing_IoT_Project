{
  "cells": [
    {
      "cell_type": "markdown",
      "metadata": {
        "id": "view-in-github",
        "colab_type": "text"
      },
      "source": [
        "<a href=\"https://colab.research.google.com/github/lc420/Sensing_IoT_Project/blob/main/pointe_shoes_dataset_curation_RAW.ipynb\" target=\"_parent\"><img src=\"https://colab.research.google.com/assets/colab-badge.svg\" alt=\"Open In Colab\"/></a>"
      ]
    },
    {
      "cell_type": "markdown",
      "metadata": {
        "id": "AvxbZv9hQk2S"
      },
      "source": [
        "# Dataset curation - Feature scaling for time series data\n",
        "\n",
        "[![Open In Colab <](https://colab.research.google.com/assets/colab-badge.svg)](https://colab.research.google.com/github/ShawnHymel/ai-nose/blob/master/ai-nose-dataset-curation.ipynb)\n",
        "\n",
        "In the paper \"Efficient BackProp\" [1], LeCun et al. shows that we can achieve a more accurate model (e.g. artificial neural network) in less time by standarizing (i.e. to a mean of 0 and unit variance) and decorrelating our input data.\n",
        "\n",
        "However, the process of standarization assumes that the data is normally distributed (i.e. Gaussian). If our data does not follow a Gaussian distribution, we should perform normalization [2], where we divide by the range to produce a set of values between 0 and 1.\n",
        "\n",
        "Create a directory */content/dataset* and upload your entire dataset there. Run through the cells in this notebook, following all of the directions to analyze the data and create a curated dataset. If you perform normalization or standarization for any dimension, you will need to copy the mean, standard deviation, minimum, and range arrays for use in your inference code (i.e. preprocessing the data before running inference).\n",
        "\n",
        "[1] http://yann.lecun.com/exdb/publis/pdf/lecun-98b.pdf\n",
        "\n",
        "[2] https://becominghuman.ai/what-does-feature-scaling-mean-when-to-normalize-data-and-when-to-standardize-data-c3de654405ed"
      ]
    },
    {
      "cell_type": "markdown",
      "metadata": {
        "id": "xnALAnX4Ml61"
      },
      "source": [
        "## Step 1: Analyze the data"
      ]
    },
    {
      "cell_type": "code",
      "execution_count": null,
      "metadata": {
        "id": "ASsQkrDSFmt6"
      },
      "outputs": [],
      "source": [
        "import csv\n",
        "import os\n",
        "import shutil\n",
        "\n",
        "import numpy as np\n",
        "import matplotlib.pyplot as plt\n",
        "import pandas as pd"
      ]
    },
    {
      "cell_type": "code",
      "source": [
        "from google.colab import drive\n",
        "drive.mount('/content/drive')"
      ],
      "metadata": {
        "id": "jl7aEXTW894J",
        "colab": {
          "base_uri": "https://localhost:8080/"
        },
        "outputId": "ba153757-99ab-42c4-c705-cd28a3194393"
      },
      "execution_count": null,
      "outputs": [
        {
          "output_type": "stream",
          "name": "stdout",
          "text": [
            "Drive already mounted at /content/drive; to attempt to forcibly remount, call drive.mount(\"/content/drive\", force_remount=True).\n"
          ]
        }
      ]
    },
    {
      "cell_type": "code",
      "execution_count": null,
      "metadata": {
        "id": "gpwB4SCFIuES"
      },
      "outputs": [],
      "source": [
        "### Settings\n",
        "HOME_PATH = \"/content\"              # Location of the working directory\n",
        "DATASET_PATH = \"/content/drive/MyDrive/pointe_shoe_data_v1\"   # Upload your .csv samples to this directory\n",
        "OUT_PATH = \"/content/out\"           # Where output files go (will be deleted and recreated)\n",
        "OUT_ZIP = \"/content/out.zip\"        # Where to store the zipped output files\n",
        "\n",
        "# Do not change these settings!\n",
        "PREP_DROP = -1                      # Drop a column\n",
        "PREP_NONE = 0                       # Perform no preprocessing on column of data\n",
        "PREP_STD = 1                        # Perform standardization on column of data\n",
        "PREP_NORM = 2                       # Perform normalization on column of data"
      ]
    },
    {
      "cell_type": "code",
      "execution_count": null,
      "metadata": {
        "id": "zOd7ohjp05yN",
        "colab": {
          "base_uri": "https://localhost:8080/",
          "height": 206
        },
        "outputId": "e2f430e4-164f-4fa7-d99d-b042e5225cde"
      },
      "outputs": [
        {
          "output_type": "execute_result",
          "data": {
            "text/plain": [
              "   timestamp  acc_x   acc_y   acc_z   gyro_x   gyro_y   gyro_z  force   flex\n",
              "0          0  -2.62    4.06    7.64    -0.04    -0.04    -0.06   73.0  100.0\n",
              "1          4  -2.66    4.03    7.64    -0.04    -0.04    -0.06   73.0  100.0\n",
              "2          7  -2.69    4.01    7.64    -0.04    -0.04    -0.06   73.0  100.0\n",
              "3         11  -2.72    3.99    7.64    -0.04    -0.04    -0.06   73.0  100.0\n",
              "4         15  -2.75    3.95    7.63    -0.05    -0.04    -0.05   73.0  100.0"
            ],
            "text/html": [
              "\n",
              "  <div id=\"df-7de7561f-1813-4f14-b520-61eb59977d44\" class=\"colab-df-container\">\n",
              "    <div>\n",
              "<style scoped>\n",
              "    .dataframe tbody tr th:only-of-type {\n",
              "        vertical-align: middle;\n",
              "    }\n",
              "\n",
              "    .dataframe tbody tr th {\n",
              "        vertical-align: top;\n",
              "    }\n",
              "\n",
              "    .dataframe thead th {\n",
              "        text-align: right;\n",
              "    }\n",
              "</style>\n",
              "<table border=\"1\" class=\"dataframe\">\n",
              "  <thead>\n",
              "    <tr style=\"text-align: right;\">\n",
              "      <th></th>\n",
              "      <th>timestamp</th>\n",
              "      <th>acc_x</th>\n",
              "      <th>acc_y</th>\n",
              "      <th>acc_z</th>\n",
              "      <th>gyro_x</th>\n",
              "      <th>gyro_y</th>\n",
              "      <th>gyro_z</th>\n",
              "      <th>force</th>\n",
              "      <th>flex</th>\n",
              "    </tr>\n",
              "  </thead>\n",
              "  <tbody>\n",
              "    <tr>\n",
              "      <th>0</th>\n",
              "      <td>0</td>\n",
              "      <td>-2.62</td>\n",
              "      <td>4.06</td>\n",
              "      <td>7.64</td>\n",
              "      <td>-0.04</td>\n",
              "      <td>-0.04</td>\n",
              "      <td>-0.06</td>\n",
              "      <td>73.0</td>\n",
              "      <td>100.0</td>\n",
              "    </tr>\n",
              "    <tr>\n",
              "      <th>1</th>\n",
              "      <td>4</td>\n",
              "      <td>-2.66</td>\n",
              "      <td>4.03</td>\n",
              "      <td>7.64</td>\n",
              "      <td>-0.04</td>\n",
              "      <td>-0.04</td>\n",
              "      <td>-0.06</td>\n",
              "      <td>73.0</td>\n",
              "      <td>100.0</td>\n",
              "    </tr>\n",
              "    <tr>\n",
              "      <th>2</th>\n",
              "      <td>7</td>\n",
              "      <td>-2.69</td>\n",
              "      <td>4.01</td>\n",
              "      <td>7.64</td>\n",
              "      <td>-0.04</td>\n",
              "      <td>-0.04</td>\n",
              "      <td>-0.06</td>\n",
              "      <td>73.0</td>\n",
              "      <td>100.0</td>\n",
              "    </tr>\n",
              "    <tr>\n",
              "      <th>3</th>\n",
              "      <td>11</td>\n",
              "      <td>-2.72</td>\n",
              "      <td>3.99</td>\n",
              "      <td>7.64</td>\n",
              "      <td>-0.04</td>\n",
              "      <td>-0.04</td>\n",
              "      <td>-0.06</td>\n",
              "      <td>73.0</td>\n",
              "      <td>100.0</td>\n",
              "    </tr>\n",
              "    <tr>\n",
              "      <th>4</th>\n",
              "      <td>15</td>\n",
              "      <td>-2.75</td>\n",
              "      <td>3.95</td>\n",
              "      <td>7.63</td>\n",
              "      <td>-0.05</td>\n",
              "      <td>-0.04</td>\n",
              "      <td>-0.05</td>\n",
              "      <td>73.0</td>\n",
              "      <td>100.0</td>\n",
              "    </tr>\n",
              "  </tbody>\n",
              "</table>\n",
              "</div>\n",
              "    <div class=\"colab-df-buttons\">\n",
              "\n",
              "  <div class=\"colab-df-container\">\n",
              "    <button class=\"colab-df-convert\" onclick=\"convertToInteractive('df-7de7561f-1813-4f14-b520-61eb59977d44')\"\n",
              "            title=\"Convert this dataframe to an interactive table.\"\n",
              "            style=\"display:none;\">\n",
              "\n",
              "  <svg xmlns=\"http://www.w3.org/2000/svg\" height=\"24px\" viewBox=\"0 -960 960 960\">\n",
              "    <path d=\"M120-120v-720h720v720H120Zm60-500h600v-160H180v160Zm220 220h160v-160H400v160Zm0 220h160v-160H400v160ZM180-400h160v-160H180v160Zm440 0h160v-160H620v160ZM180-180h160v-160H180v160Zm440 0h160v-160H620v160Z\"/>\n",
              "  </svg>\n",
              "    </button>\n",
              "\n",
              "  <style>\n",
              "    .colab-df-container {\n",
              "      display:flex;\n",
              "      gap: 12px;\n",
              "    }\n",
              "\n",
              "    .colab-df-convert {\n",
              "      background-color: #E8F0FE;\n",
              "      border: none;\n",
              "      border-radius: 50%;\n",
              "      cursor: pointer;\n",
              "      display: none;\n",
              "      fill: #1967D2;\n",
              "      height: 32px;\n",
              "      padding: 0 0 0 0;\n",
              "      width: 32px;\n",
              "    }\n",
              "\n",
              "    .colab-df-convert:hover {\n",
              "      background-color: #E2EBFA;\n",
              "      box-shadow: 0px 1px 2px rgba(60, 64, 67, 0.3), 0px 1px 3px 1px rgba(60, 64, 67, 0.15);\n",
              "      fill: #174EA6;\n",
              "    }\n",
              "\n",
              "    .colab-df-buttons div {\n",
              "      margin-bottom: 4px;\n",
              "    }\n",
              "\n",
              "    [theme=dark] .colab-df-convert {\n",
              "      background-color: #3B4455;\n",
              "      fill: #D2E3FC;\n",
              "    }\n",
              "\n",
              "    [theme=dark] .colab-df-convert:hover {\n",
              "      background-color: #434B5C;\n",
              "      box-shadow: 0px 1px 3px 1px rgba(0, 0, 0, 0.15);\n",
              "      filter: drop-shadow(0px 1px 2px rgba(0, 0, 0, 0.3));\n",
              "      fill: #FFFFFF;\n",
              "    }\n",
              "  </style>\n",
              "\n",
              "    <script>\n",
              "      const buttonEl =\n",
              "        document.querySelector('#df-7de7561f-1813-4f14-b520-61eb59977d44 button.colab-df-convert');\n",
              "      buttonEl.style.display =\n",
              "        google.colab.kernel.accessAllowed ? 'block' : 'none';\n",
              "\n",
              "      async function convertToInteractive(key) {\n",
              "        const element = document.querySelector('#df-7de7561f-1813-4f14-b520-61eb59977d44');\n",
              "        const dataTable =\n",
              "          await google.colab.kernel.invokeFunction('convertToInteractive',\n",
              "                                                    [key], {});\n",
              "        if (!dataTable) return;\n",
              "\n",
              "        const docLinkHtml = 'Like what you see? Visit the ' +\n",
              "          '<a target=\"_blank\" href=https://colab.research.google.com/notebooks/data_table.ipynb>data table notebook</a>'\n",
              "          + ' to learn more about interactive tables.';\n",
              "        element.innerHTML = '';\n",
              "        dataTable['output_type'] = 'display_data';\n",
              "        await google.colab.output.renderOutput(dataTable, element);\n",
              "        const docLink = document.createElement('div');\n",
              "        docLink.innerHTML = docLinkHtml;\n",
              "        element.appendChild(docLink);\n",
              "      }\n",
              "    </script>\n",
              "  </div>\n",
              "\n",
              "\n",
              "<div id=\"df-73f12db4-2149-4eb2-b4d5-c8ae9ac802dd\">\n",
              "  <button class=\"colab-df-quickchart\" onclick=\"quickchart('df-73f12db4-2149-4eb2-b4d5-c8ae9ac802dd')\"\n",
              "            title=\"Suggest charts\"\n",
              "            style=\"display:none;\">\n",
              "\n",
              "<svg xmlns=\"http://www.w3.org/2000/svg\" height=\"24px\"viewBox=\"0 0 24 24\"\n",
              "     width=\"24px\">\n",
              "    <g>\n",
              "        <path d=\"M19 3H5c-1.1 0-2 .9-2 2v14c0 1.1.9 2 2 2h14c1.1 0 2-.9 2-2V5c0-1.1-.9-2-2-2zM9 17H7v-7h2v7zm4 0h-2V7h2v10zm4 0h-2v-4h2v4z\"/>\n",
              "    </g>\n",
              "</svg>\n",
              "  </button>\n",
              "\n",
              "<style>\n",
              "  .colab-df-quickchart {\n",
              "      --bg-color: #E8F0FE;\n",
              "      --fill-color: #1967D2;\n",
              "      --hover-bg-color: #E2EBFA;\n",
              "      --hover-fill-color: #174EA6;\n",
              "      --disabled-fill-color: #AAA;\n",
              "      --disabled-bg-color: #DDD;\n",
              "  }\n",
              "\n",
              "  [theme=dark] .colab-df-quickchart {\n",
              "      --bg-color: #3B4455;\n",
              "      --fill-color: #D2E3FC;\n",
              "      --hover-bg-color: #434B5C;\n",
              "      --hover-fill-color: #FFFFFF;\n",
              "      --disabled-bg-color: #3B4455;\n",
              "      --disabled-fill-color: #666;\n",
              "  }\n",
              "\n",
              "  .colab-df-quickchart {\n",
              "    background-color: var(--bg-color);\n",
              "    border: none;\n",
              "    border-radius: 50%;\n",
              "    cursor: pointer;\n",
              "    display: none;\n",
              "    fill: var(--fill-color);\n",
              "    height: 32px;\n",
              "    padding: 0;\n",
              "    width: 32px;\n",
              "  }\n",
              "\n",
              "  .colab-df-quickchart:hover {\n",
              "    background-color: var(--hover-bg-color);\n",
              "    box-shadow: 0 1px 2px rgba(60, 64, 67, 0.3), 0 1px 3px 1px rgba(60, 64, 67, 0.15);\n",
              "    fill: var(--button-hover-fill-color);\n",
              "  }\n",
              "\n",
              "  .colab-df-quickchart-complete:disabled,\n",
              "  .colab-df-quickchart-complete:disabled:hover {\n",
              "    background-color: var(--disabled-bg-color);\n",
              "    fill: var(--disabled-fill-color);\n",
              "    box-shadow: none;\n",
              "  }\n",
              "\n",
              "  .colab-df-spinner {\n",
              "    border: 2px solid var(--fill-color);\n",
              "    border-color: transparent;\n",
              "    border-bottom-color: var(--fill-color);\n",
              "    animation:\n",
              "      spin 1s steps(1) infinite;\n",
              "  }\n",
              "\n",
              "  @keyframes spin {\n",
              "    0% {\n",
              "      border-color: transparent;\n",
              "      border-bottom-color: var(--fill-color);\n",
              "      border-left-color: var(--fill-color);\n",
              "    }\n",
              "    20% {\n",
              "      border-color: transparent;\n",
              "      border-left-color: var(--fill-color);\n",
              "      border-top-color: var(--fill-color);\n",
              "    }\n",
              "    30% {\n",
              "      border-color: transparent;\n",
              "      border-left-color: var(--fill-color);\n",
              "      border-top-color: var(--fill-color);\n",
              "      border-right-color: var(--fill-color);\n",
              "    }\n",
              "    40% {\n",
              "      border-color: transparent;\n",
              "      border-right-color: var(--fill-color);\n",
              "      border-top-color: var(--fill-color);\n",
              "    }\n",
              "    60% {\n",
              "      border-color: transparent;\n",
              "      border-right-color: var(--fill-color);\n",
              "    }\n",
              "    80% {\n",
              "      border-color: transparent;\n",
              "      border-right-color: var(--fill-color);\n",
              "      border-bottom-color: var(--fill-color);\n",
              "    }\n",
              "    90% {\n",
              "      border-color: transparent;\n",
              "      border-bottom-color: var(--fill-color);\n",
              "    }\n",
              "  }\n",
              "</style>\n",
              "\n",
              "  <script>\n",
              "    async function quickchart(key) {\n",
              "      const quickchartButtonEl =\n",
              "        document.querySelector('#' + key + ' button');\n",
              "      quickchartButtonEl.disabled = true;  // To prevent multiple clicks.\n",
              "      quickchartButtonEl.classList.add('colab-df-spinner');\n",
              "      try {\n",
              "        const charts = await google.colab.kernel.invokeFunction(\n",
              "            'suggestCharts', [key], {});\n",
              "      } catch (error) {\n",
              "        console.error('Error during call to suggestCharts:', error);\n",
              "      }\n",
              "      quickchartButtonEl.classList.remove('colab-df-spinner');\n",
              "      quickchartButtonEl.classList.add('colab-df-quickchart-complete');\n",
              "    }\n",
              "    (() => {\n",
              "      let quickchartButtonEl =\n",
              "        document.querySelector('#df-73f12db4-2149-4eb2-b4d5-c8ae9ac802dd button');\n",
              "      quickchartButtonEl.style.display =\n",
              "        google.colab.kernel.accessAllowed ? 'block' : 'none';\n",
              "    })();\n",
              "  </script>\n",
              "</div>\n",
              "    </div>\n",
              "  </div>\n"
            ]
          },
          "metadata": {},
          "execution_count": 25
        }
      ],
      "source": [
        "### Plot individual graphs\n",
        "\n",
        "flat_normal_1 = pd.read_csv('/content/drive/MyDrive/pointe_shoe_data_v2/flat-normal.170130300760.csv')\n",
        "up_left_2 = pd.read_csv('/content/drive/MyDrive/pointe_shoe_data_v2/up-left.170130343781.csv')\n",
        "up_right_3 = pd.read_csv('/content/drive/MyDrive/pointe_shoe_data_v2/up-right.170130313392.csv')\n",
        "\n",
        "flat_normal_1.head()\n",
        "up_left_2.head()\n",
        "up_right_3.head()\n"
      ]
    },
    {
      "cell_type": "code",
      "execution_count": null,
      "metadata": {
        "id": "_ylnnoQq8uLp"
      },
      "outputs": [],
      "source": [
        "# Read each CSV file\n",
        "\n",
        "def plottingfunction(input):\n",
        "\n",
        "  #csvreaded = csv.reader(input)\n",
        "  #header = next(csvreaded)\n",
        "  #empty_list = []\n",
        "\n",
        "  #for row in csvreaded:\n",
        "      #  empty_list.append(row)\n",
        "\n",
        "  #print(csvreaded)\n",
        "  #print(empty_list)\n",
        "\n",
        "  data = pd.read_csv(input, on_bad_lines='skip')\n",
        "  #data = empty_list\n",
        "\n",
        "  plt.figure()\n",
        "  x1 = data['acc_x']\n",
        "  x2 = data[' acc_y']\n",
        "  x3 = data[' acc_z']\n",
        "  x4 = data[' gyro_x']\n",
        "  x5 = data[' gyro_y']\n",
        "  x6 = data[' gyro_z']\n",
        "  x7 = data['force']\n",
        "  x8 = data['flex']\n",
        "\n",
        "\n",
        "  plt.plot(x1, label='Acc X')\n",
        "  plt.plot(x2, label='Acc Y')\n",
        "  plt.plot(x3, label='Acc Z ')\n",
        "  plt.plot(x4, label='Gyro X')\n",
        "  plt.plot(x5, label='Gyro Y')\n",
        "  plt.plot(x6, label='Gyro Z')\n",
        "  plt.plot(x7, label='Force')\n",
        "  #plt.plot(x8, label='Flex')\n",
        "\n",
        "\n",
        "\n",
        "\n",
        "  plt.legend()\n",
        "  plt.xlabel('Samples')\n",
        "  plt.ylabel('Sensor values')\n",
        "  plt.title(input)\n",
        "  # Displaying the plot\n",
        "  plt.show()\n",
        "\n",
        "\n",
        "plottingfunction('/content/drive/MyDrive/pointe_shoe_data_v2/flat-normal.170130300760.csv')\n",
        "plottingfunction('/content/drive/MyDrive/pointe_shoe_data_v2/up-left.170130343781.csv')\n",
        "plottingfunction('/content/drive/MyDrive/pointe_shoe_data_v2/up-right.170130313392.csv')\n",
        "plottingfunction('/content/drive/MyDrive/pointe_shoe_data_v2/full-motion-more-samples.170130363811.csv')\n",
        "#for filename in os.listdir(DATASET_PATH):\n",
        " # if filename.endswith(\".csv\"):\n",
        "  #    filepath = os.path.join(DATASET_PATH, filename)\n",
        "   #   plottingfunction(filepath)\n"
      ]
    },
    {
      "cell_type": "code",
      "source": [
        "## PLOTTING GRAPHS FOR EACH CSV FILE (all measurements at once)\n",
        "# Read each CSV file\n",
        "for filename in os.listdir(DATASET_PATH):\n",
        "\n",
        "  # Check if the path is a file\n",
        "  filepath = os.path.join(DATASET_PATH, filename)\n",
        "  plottingfunction(filepath)"
      ],
      "metadata": {
        "id": "Ea-eQ0pV-PSp"
      },
      "execution_count": null,
      "outputs": []
    },
    {
      "cell_type": "code",
      "source": [
        "## Plotting Corresponding values together\n",
        "# Read each CSV file\n",
        "\n",
        "def plot_by_variable(variable):\n",
        "\n",
        "    dataset_1 = up_right_3\n",
        "    dataset_2 = up_left_2\n",
        "    dataset_3 = flat_normal_1\n",
        "    #dataset_4 = pd.read_csv('/content/laura/flat-right.1699265840433.csv')\n",
        "    #dataset_5 = pd.read_csv('/content/laura/up-normal.1699266012456.csv')\n",
        "    #dataset_6 = pd.read_csv('/content/laura/up-left.1699266056776.csv')\n",
        "    #dataset_7 = pd.read_csv('/content/laura/up-right.1699266033988.csv')\n",
        "\n",
        "\n",
        "    plt.figure()\n",
        "    x1 = dataset_1[variable]\n",
        "    x2 = dataset_2[variable]\n",
        "    x3 = dataset_3[variable]\n",
        "    #x4 = dataset_4[variable]\n",
        "    #x5 = dataset_5[variable]\n",
        "    #x6 = dataset_6[variable]\n",
        "    #x7 = dataset_7[variable]\n",
        "\n",
        "    plt.plot(x1, label='Up right')\n",
        "    plt.plot(x2, label='Up left')\n",
        "    plt.plot(x3, label='Flat normal')\n",
        "    #plt.plot(x4, label='Flat right')\n",
        "    #plt.plot(x5, label='Up normal')\n",
        "    #plt.plot(x6, label='Up left')\n",
        "    #plt.plot(x7, label='Up right')\n",
        "    plt.legend()\n",
        "    plt.xlabel('X-axis')\n",
        "    plt.ylabel('Y-axis')\n",
        "    plt.title(\"Comparing Rolls for different positions\")\n",
        "    # Displaying the plot\n",
        "    plt.show()\n",
        "\n",
        "plot_by_variable(' acc_y')\n",
        "plot_by_variable(' gyro_y')\n"
      ],
      "metadata": {
        "id": "yjvxbCiT_HR5",
        "colab": {
          "base_uri": "https://localhost:8080/",
          "height": 927
        },
        "outputId": "36901f8e-052d-4f8b-9d9a-8ab51eeafc99"
      },
      "execution_count": null,
      "outputs": [
        {
          "output_type": "display_data",
          "data": {
            "text/plain": [
              "<Figure size 640x480 with 1 Axes>"
            ],
            "image/png": "[encoded data removed]"
          },
          "metadata": {}
        },
        {
          "output_type": "display_data",
          "data": {
            "text/plain": [
              "<Figure size 640x480 with 1 Axes>"
            ],
            "image/png": "[encoded data removed]"
          },
          "metadata": {}
        }
      ]
    },
    {
      "cell_type": "code",
      "execution_count": null,
      "metadata": {
        "id": "9x1FvOLJI2vX"
      },
      "outputs": [],
      "source": [
        "### Read in .csv files to construct one long multi-axis, time series data\n",
        "\n",
        "# Store header, raw data, and number of lines found in each .csv file\n",
        "header = None\n",
        "raw_data = []\n",
        "num_lines = []\n",
        "filenames = []\n",
        "\n",
        "# Read each CSV file\n",
        "for filename in os.listdir(DATASET_PATH):\n",
        "\n",
        "  # Check if the path is a file\n",
        "  filepath = os.path.join(DATASET_PATH, filename)\n",
        "  if not os.path.isfile(filepath):\n",
        "    continue\n",
        "\n",
        "\n",
        "  # Read the .csv file\n",
        "  with open(filepath) as f:\n",
        "    csv_reader = csv.reader(f, delimiter=',')\n",
        "\n",
        "    # Read each line\n",
        "    valid_line_counter = 0\n",
        "    for line_count, line in enumerate(csv_reader):\n",
        "\n",
        "      # Check header\n",
        "      if line_count == 0:\n",
        "\n",
        "        # Record first header as our official header for all the data\n",
        "        if header == None:\n",
        "          header = line\n",
        "\n",
        "        # Check to make sure subsequent headers match the original header\n",
        "        if header == line:\n",
        "          num_lines.append(0)\n",
        "          filenames.append(filename)\n",
        "        else:\n",
        "          print(\"Error: Headers do not match. Skipping\", filename)\n",
        "          break\n",
        "\n",
        "      # Construct raw data array, make sure number of elements match number of header labels\n",
        "      else:\n",
        "        if len(line) == len(header):\n",
        "          raw_data.append(line)\n",
        "          num_lines[-1] += 1\n",
        "        else:\n",
        "          print(\"Error: Data length does not match header length. Skipping line.\")\n",
        "          continue\n",
        "\n",
        "# Convert our raw data into a numpy array\n",
        "raw_data = np.array(raw_data).astype(float)\n",
        "\n",
        "# Print out our results\n",
        "print(\"Dataset array shape:\", raw_data.shape)\n",
        "print(\"Number of elements in num_lines:\", len(num_lines))\n",
        "print(\"Number of filenames:\", len(filenames))\n",
        "assert(len(num_lines) == len(filenames))"
      ]
    },
    {
      "cell_type": "code",
      "execution_count": null,
      "metadata": {
        "id": "EPXyymW9LtPB"
      },
      "outputs": [],
      "source": [
        "### Plot scatter matrix to look for correlation\n",
        "\n",
        "# Convert NumPy array to Pandas DataFrame\n",
        "df = pd.DataFrame(raw_data, columns=header)\n",
        "\n",
        "# Create scatter matrix\n",
        "sm = pd.plotting.scatter_matrix(df, figsize=(15, 15))"
      ]
    },
    {
      "cell_type": "markdown",
      "metadata": {
        "id": "2GuTOWqkYo9M"
      },
      "source": [
        "Notice the wide range of input values! We need to get those to be close to the same range so that the correlation plots will make more sense. Before we do that, we should plot the histograms to see how the data is distributed."
      ]
    },
    {
      "cell_type": "code",
      "execution_count": null,
      "metadata": {
        "id": "u1JIjUVT5qwl",
        "colab": {
          "base_uri": "https://localhost:8080/",
          "height": 812
        },
        "outputId": "537da174-153c-4604-8de6-39aa9c4f5133"
      },
      "outputs": [
        {
          "output_type": "display_data",
          "data": {
            "text/plain": [
              "<Figure size 1000x1000 with 2 Axes>"
            ],
            "image/png": "[encoded data removed]"
          },
          "metadata": {}
        }
      ],
      "source": [
        "### Show correlation matrix as colors\n",
        "\n",
        "# Create plot\n",
        "fig = plt.figure(figsize=(10, 10))\n",
        "ax = fig.add_subplot(111)\n",
        "im = ax.matshow(df.corr())\n",
        "\n",
        "# Add legend\n",
        "fig.colorbar(im)\n",
        "\n",
        "# Add x and y labels\n",
        "_ = ax.set_xticks(np.arange(len(header)))\n",
        "_ = ax.set_xticklabels(header)\n",
        "_ = ax.set_yticks(np.arange(len(header)))\n",
        "_ = ax.set_yticklabels(header)"
      ]
    },
    {
      "cell_type": "code",
      "execution_count": null,
      "metadata": {
        "id": "qt9D2F_PMjdY"
      },
      "outputs": [],
      "source": [
        "### Examine the histograms of all the data\n",
        "\n",
        "# Create subplots\n",
        "num_hists = len(header)\n",
        "fig, axs = plt.subplots(1, num_hists, figsize=(20,3))\n",
        "\n",
        "# Create histogram for each category of data\n",
        "for i in range(num_hists):\n",
        "  _ = axs[i].hist(raw_data[:, i])\n",
        "  axs[i].title.set_text(header[i])"
      ]
    },
    {
      "cell_type": "code",
      "execution_count": null,
      "metadata": {
        "id": "x1JHQ3zbZTuP"
      },
      "outputs": [],
      "source": [
        "### Analyze the data\n",
        "\n",
        "# Calculate means, standard deviations, and ranges\n",
        "means = np.mean(raw_data, axis=0)\n",
        "std_devs = np.std(raw_data, axis=0)\n",
        "maxes = np.max(raw_data, axis=0)\n",
        "mins = np.min(raw_data, axis=0)\n",
        "ranges = np.ptp(raw_data, axis=0)\n",
        "\n",
        "# Print results\n",
        "for i, name in enumerate(header):\n",
        "  print(name)\n",
        "  print(\"  mean:\", means[i])\n",
        "  print(\"  std dev:\", std_devs[i])\n",
        "  print(\"  max:\", maxes[i])\n",
        "  print(\"  min:\", mins[i])\n",
        "  print(\"  range:\", ranges[i])"
      ]
    },
    {
      "cell_type": "markdown",
      "metadata": {
        "id": "sWwyVZEv4M6B"
      },
      "source": [
        "## Step 2: Choose how to preprocess the data"
      ]
    },
    {
      "cell_type": "code",
      "execution_count": null,
      "metadata": {
        "id": "0nb5ZVm_QeqD"
      },
      "outputs": [],
      "source": [
        "### Choose preprocessing method for each column\n",
        "#     PREP_DROP: Drop column\n",
        "#     PREP_NONE: no preprocessing\n",
        "#     PREP_STD: standardization (if data is Gaussian)\n",
        "#     PREP_NORM: normalization (if data is non-Gaussian)\n",
        "\n",
        "# Change this to match your picks!\n",
        "preproc = [PREP_DROP,   # timestamp\n",
        "           PREP_NORM,   # acc_x\n",
        "           PREP_NORM,   # acc_y\n",
        "           PREP_NORM,   # acc_z\n",
        "           PREP_NORM,   # gyro_x\n",
        "           PREP_NORM,   # gyro_y\n",
        "           PREP_NORM,   # gyro_z\n",
        "           PREP_NORM,   # force\n",
        "           PREP_NORM]   #flex\n",
        "\n",
        "# Check to make sure we have the correct number of preprocessing request elements\n",
        "assert(len(preproc) == len(header))\n",
        "assert(len(preproc) == raw_data.shape[1])\n",
        "\n",
        "# ### If we do not need the timestamp column, drop it from the data\n",
        "# if not KEEP_TIMESTAMP:\n",
        "#   header = header[1:]\n",
        "#   raw_data = raw_data[:,1:]\n",
        "#   print(\"Array shape without timestamp:\", data_without_time.shape)"
      ]
    },
    {
      "cell_type": "markdown",
      "metadata": {
        "id": "KWxMyht0CQUK"
      },
      "source": [
        "## Step 3: Perform data preprocessing"
      ]
    },
    {
      "cell_type": "code",
      "execution_count": null,
      "metadata": {
        "id": "BqrCbErD7vC6",
        "colab": {
          "base_uri": "https://localhost:8080/"
        },
        "outputId": "87f3aeca-a11d-4a71-e4c0-00ed0ad43c36"
      },
      "outputs": [
        {
          "output_type": "stream",
          "name": "stdout",
          "text": [
            "Dropping timestamp\n",
            "['acc_x', ' acc_y', ' acc_z', ' gyro_x', ' gyro_y', ' gyro_z', 'force', 'flex']\n",
            "New data shape: (3500, 8)\n",
            "Means: [0.061, 7.7205, 1.652, -0.1791, 0.0203, 0.0035, 10.2003, 38.076]\n",
            "Std devs: [1.9997, 2.7395, 4.3913, 0.4879, 0.3539, 0.2586, 22.1843, 46.7582]\n",
            "Mins: [-10.12, 0.97, -5.55, -3.19, -1.48, -0.9, 0.0, 0.0]\n",
            "Ranges: [14.42, 10.98, 14.1, 4.02, 6.21, 2.63, 75.0, 100.0]\n"
          ]
        }
      ],
      "source": [
        "### Perform preprocessing steps as requested\n",
        "\n",
        "# Figure out how many columns we plan to keep\n",
        "num_cols = sum(1 for x in preproc if x != PREP_DROP)\n",
        "\n",
        "# Create empty numpy array and header for preprocessed data\n",
        "prep_data = np.zeros((raw_data.shape[0], num_cols))\n",
        "prep_header = []\n",
        "prep_means = []\n",
        "prep_std_devs = []\n",
        "prep_mins = []\n",
        "prep_ranges = []\n",
        "\n",
        "# Go through each column to preprocess the data\n",
        "prep_c = 0\n",
        "for raw_c in range(len(header)):\n",
        "\n",
        "  # Drop column if requested\n",
        "  if preproc[raw_c] == PREP_DROP:\n",
        "    print(\"Dropping\", header[raw_c])\n",
        "    continue\n",
        "\n",
        "  # Perform data standardization\n",
        "  if preproc[raw_c] == PREP_STD:\n",
        "    prep_data[:, prep_c] = (raw_data[:, raw_c] - means[raw_c]) / std_devs[raw_c]\n",
        "\n",
        "  # Perform data normalization\n",
        "  elif preproc[raw_c] == PREP_NORM:\n",
        "    prep_data[:, prep_c] = (raw_data[:, raw_c] - mins[raw_c]) / ranges[raw_c]\n",
        "\n",
        "  # Copy data over if no preprocessing is requested\n",
        "  elif preproc[raw_c] == PREP_NONE:\n",
        "    prep_data[:, raw_c] = raw_data[:, raw_c]\n",
        "\n",
        "  # Error if code not recognized\n",
        "  else:\n",
        "    raise Exception(\"Preprocessing code not recognized\")\n",
        "\n",
        "  # Copy header (and preprocessing constants) and increment preprocessing column index\n",
        "  prep_header.append(header[raw_c])\n",
        "  prep_means.append(means[raw_c])\n",
        "  prep_std_devs.append(std_devs[raw_c])\n",
        "  prep_mins.append(mins[raw_c])\n",
        "  prep_ranges.append(ranges[raw_c])\n",
        "  prep_c += 1\n",
        "\n",
        "# Show new data header and shape\n",
        "print(prep_header)\n",
        "print(\"New data shape:\", prep_data.shape)\n",
        "print(\"Means:\", [float(\"{:.4f}\".format(x)) for x in prep_means])\n",
        "print(\"Std devs:\", [float(\"{:.4f}\".format(x)) for x in prep_std_devs])\n",
        "print(\"Mins:\", [float(\"{:.4f}\".format(x)) for x in prep_mins])\n",
        "print(\"Ranges:\", [float(\"{:.4f}\".format(x)) for x in prep_ranges])"
      ]
    },
    {
      "cell_type": "markdown",
      "metadata": {
        "id": "K-E0CfJaCSNc"
      },
      "source": [
        "## Step 4: Analyze newly preprocessed data"
      ]
    },
    {
      "cell_type": "code",
      "execution_count": null,
      "metadata": {
        "id": "Nfxoua7-hG1e"
      },
      "outputs": [],
      "source": [
        "### Recreate the scatter matrix to look for correlation\n",
        "\n",
        "# Convert NumPy array to Pandas DataFrame\n",
        "df = pd.DataFrame(prep_data, columns=prep_header)\n",
        "\n",
        "# Create scatter matrix\n",
        "sm = pd.plotting.scatter_matrix(df, figsize=(15, 15))"
      ]
    },
    {
      "cell_type": "code",
      "execution_count": null,
      "metadata": {
        "id": "mMbAP3tShNuQ",
        "colab": {
          "base_uri": "https://localhost:8080/",
          "height": 812
        },
        "outputId": "3419be25-042b-47d6-c1fd-c83ebbcb79fe"
      },
      "outputs": [
        {
          "output_type": "display_data",
          "data": {
            "text/plain": [
              "<Figure size 1000x1000 with 2 Axes>"
            ],
            "image/png": "[encoded data removed]"
          },
          "metadata": {}
        }
      ],
      "source": [
        "### Show correlation matrix as colors\n",
        "\n",
        "# Create plot\n",
        "fig = plt.figure(figsize=(10, 10))\n",
        "ax = fig.add_subplot(111)\n",
        "im = ax.matshow(df.corr())\n",
        "\n",
        "# Add legend\n",
        "fig.colorbar(im)\n",
        "\n",
        "# Add x and y labels\n",
        "_ = ax.set_xticks(np.arange(len(prep_header)))\n",
        "_ = ax.set_xticklabels(prep_header)\n",
        "_ = ax.set_yticks(np.arange(len(prep_header)))\n",
        "_ = ax.set_yticklabels(prep_header)"
      ]
    },
    {
      "cell_type": "markdown",
      "metadata": {
        "id": "ytiLtULjDPEq"
      },
      "source": [
        "## Step 5: Store preprocessed data in CSV files"
      ]
    },
    {
      "cell_type": "code",
      "execution_count": null,
      "metadata": {
        "id": "j-zn9JjSl0si"
      },
      "outputs": [],
      "source": [
        "### Delete output directory (if it exists) and recreate it\n",
        "if os.path.exists(OUT_PATH):\n",
        "  shutil.rmtree(OUT_PATH)\n",
        "os.makedirs(OUT_PATH)"
      ]
    },
    {
      "cell_type": "code",
      "execution_count": null,
      "metadata": {
        "id": "HbIvoyilljEx"
      },
      "outputs": [],
      "source": [
        "### Write out data to .csv files\n",
        "\n",
        "# Go through all the original filenames\n",
        "row_index = 0\n",
        "for file_num, filename in enumerate(filenames):\n",
        "\n",
        "  # Open .csv file\n",
        "  file_path = os.path.join(OUT_PATH, filename)\n",
        "  with open(file_path, 'w') as f:\n",
        "    csv_writer = csv.writer(f, delimiter=',')\n",
        "\n",
        "    # Write header\n",
        "    csv_writer.writerow(prep_header)\n",
        "\n",
        "    # Write contents\n",
        "    for _ in range(num_lines[file_num]):\n",
        "      csv_writer.writerow(prep_data[row_index])\n",
        "      row_index += 1\n",
        "\n",
        "print(prep_header)"
      ]
    },
    {
      "cell_type": "code",
      "execution_count": null,
      "metadata": {
        "id": "WHwvKD94pOao"
      },
      "outputs": [],
      "source": [
        "### Zip output directory\n",
        "%cd {OUT_PATH}\n",
        "!zip -FS -r -q {OUT_ZIP} *\n",
        "%cd {HOME_PATH}"
      ]
    },
    {
      "cell_type": "code",
      "execution_count": null,
      "metadata": {
        "id": "8FB-mGIGquk0"
      },
      "outputs": [],
      "source": []
    }
  ],
  "metadata": {
    "colab": {
      "provenance": [],
      "include_colab_link": true
    },
    "kernelspec": {
      "display_name": "Python 3",
      "name": "python3"
    },
    "language_info": {
      "name": "python"
    }
  },
  "nbformat": 4,
  "nbformat_minor": 0
}